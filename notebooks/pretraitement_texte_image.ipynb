{
 "cells": [
  {
   "cell_type": "code",
   "execution_count": 10,
   "metadata": {},
   "outputs": [],
   "source": [
    "import spacy\n",
    "from spacy.lang.en.stop_words import STOP_WORDS\n",
    "from spacy.lang.en import English\n",
    "import re\n",
    "import os\n",
    "\n",
    "# Chemin vers la source\n",
    "file_path = \"../data/raw/Flickr8k_text/Flickr8k_token.txt\"\n",
    "image_path = \"../data/raw/Flickr8k_image/Images/\"\n",
    "\n",
    "jpgs = os.listdir(image_path)\n",
    "\n",
    "# Charger le modèle SpaCy en anglais\n",
    "nlp = spacy.load(\"en_core_web_sm\")"
   ]
  },
  {
   "cell_type": "code",
   "execution_count": null,
   "metadata": {},
   "outputs": [],
   "source": [
    "#\n",
    "from keras.applications import VGG16\n",
    "\n",
    "modelvgg = VGG16(include_top=True,weights=None)\n",
    "# load the locally saved weights \n",
    "modelvgg.load_weights(\"../output/vgg16_weights_tf_dim_ordering_tf_kernels.h5\")\n",
    "modelvgg.summary()"
   ]
  },
  {
   "cell_type": "code",
   "execution_count": null,
   "metadata": {},
   "outputs": [],
   "source": [
    "# Fonction pour nettoyer et prétraiter le texte\n",
    "def preprocess_text(text):\n",
    "    # Convertir en minuscules\n",
    "    text = text.lower()\n",
    "    # Supprimer la ponctuation\n",
    "    text = re.sub(r'[^\\w\\s]', '', text)\n",
    "    # Supprimer les chiffres et autres caractères non alphabétiques\n",
    "    text = re.sub(r'\\d+', '', text)\n",
    "    return text\n",
    "\n",
    "# Fonction pour effectuer la lemmatisation et la tokenisation\n",
    "def lemmatize_and_tokenize(text):\n",
    "    tokens = []\n",
    "    # Analyser le texte avec SpaCy\n",
    "    doc = nlp(text)\n",
    "    # Lemmatisation et tokenisation\n",
    "    for token in doc:\n",
    "        if token.text not in STOP_WORDS and token.text.strip():\n",
    "            tokens.append(token.lemma_)\n",
    "    return tokens\n",
    "\n",
    "# Ajouter les jetons de début et de fin\n",
    "def add_start_end_tokens(tokens):\n",
    "    tokens.insert(0, \"<start>\")\n",
    "    tokens.append(\"<end>\")\n",
    "    return tokens\n",
    "\n",
    "# Fonction principale pour prétraiter les légendes\n",
    "def preprocess_captions_file(file_path):\n",
    "    preprocessed_captions = []\n",
    "    with open(file_path, 'r') as file:\n",
    "        for line in file:\n",
    "            # Diviser la ligne en identifiant et texte\n",
    "            id, text = line.strip().split(\"\\t\")\n",
    "            # Appliquer le prétraitement au texte\n",
    "            text = preprocess_text(text)\n",
    "            # Lemmatisation et tokenisation\n",
    "            tokens = lemmatize_and_tokenize(text)\n",
    "            # Ajouter les jetons de début et de fin\n",
    "            tokens = add_start_end_tokens(tokens)\n",
    "            # Ajouter l'identifiant et les tokens prétraités à la liste de légendes prétraitées\n",
    "            preprocessed_captions.append((id, tokens))\n",
    "    return preprocessed_captions"
   ]
  },
  {
   "cell_type": "code",
   "execution_count": null,
   "metadata": {},
   "outputs": [],
   "source": [
    "# Utilisation des fonctions\n",
    "preprocessed_captions = preprocess_captions_file(file_path)\n",
    "\n",
    "# Affichage des légendes prétraitées\n",
    "for id, tokens in preprocessed_captions:\n",
    "    print(id, tokens)"
   ]
  },
  {
   "cell_type": "markdown",
   "metadata": {},
   "source": [
    "# Prétraitement de l'image"
   ]
  },
  {
   "cell_type": "code",
   "execution_count": 11,
   "metadata": {},
   "outputs": [],
   "source": [
    "import cv2\n",
    "\n",
    "# Chemin vers le dossier de sortie pour les images redimensionnées\n",
    "dossier_sortie = \"../data/processed/Flickr8k_image_processed/\"\n",
    "\n",
    "# Créer le dossier de sortie s'il n'existe pas\n",
    "if not os.path.exists(dossier_sortie):\n",
    "    os.makedirs(dossier_sortie)\n",
    "\n",
    "# Parcourir tous les fichiers du dossier\n",
    "for fichier in os.listdir(image_path):\n",
    "    # Vérifier si le fichier est une image (extension .jpg, .png, etc.)\n",
    "    if fichier.endswith(\".jpg\") or fichier.endswith(\".png\") or fichier.endswith(\".jpeg\"):\n",
    "        # Construire le chemin complet de l'image\n",
    "        chemin_image_entree = os.path.join(image_path, fichier)\n",
    "        # Charger l'image\n",
    "        image = cv2.imread(chemin_image_entree)\n",
    "        # Redimensionner l'image à la taille attendue par VGG16 (224x224)\n",
    "        image_redimensionnee = cv2.resize(image, (224, 224))\n",
    "        # Construire le chemin de sortie pour l'image redimensionnée\n",
    "        chemin_image_sortie = os.path.join(dossier_sortie, fichier)\n",
    "        # Enregistrer l'image redimensionnée\n",
    "        cv2.imwrite(chemin_image_sortie, image_redimensionnee)"
   ]
  }
 ],
 "metadata": {
  "kernelspec": {
   "display_name": ".venv",
   "language": "python",
   "name": "python3"
  },
  "language_info": {
   "codemirror_mode": {
    "name": "ipython",
    "version": 3
   },
   "file_extension": ".py",
   "mimetype": "text/x-python",
   "name": "python",
   "nbconvert_exporter": "python",
   "pygments_lexer": "ipython3",
   "version": "3.9.13"
  }
 },
 "nbformat": 4,
 "nbformat_minor": 2
}
