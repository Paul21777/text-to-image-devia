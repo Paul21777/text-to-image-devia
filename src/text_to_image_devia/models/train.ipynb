{
 "cells": [
  {
   "cell_type": "code",
   "execution_count": 3,
   "metadata": {},
   "outputs": [],
   "source": [
    "import docker\n",
    "import os\n",
    "client = docker.from_env()"
   ]
  },
  {
   "cell_type": "code",
   "execution_count": 11,
   "metadata": {},
   "outputs": [
    {
     "data": {
      "text/plain": [
       "b''"
      ]
     },
     "execution_count": 11,
     "metadata": {},
     "output_type": "execute_result"
    }
   ],
   "source": [
    "container = client.containers.run(\n",
    "    \"ghcr.io/ttmx/tf-torch-docker:main\",\n",
    "    command=\"bash -c 'python /tmp/train.py'\",\n",
    "    volumes={f\"{os.getcwd()}\": {\"bind\": \"/tmp\", \"mode\": \"rw\"}},\n",
    "    working_dir=\"/tmp\",\n",
    "    detach=True,\n",
    ")\n",
    "container.logs()"
   ]
  },
  {
   "cell_type": "code",
   "execution_count": null,
   "metadata": {},
   "outputs": [],
   "source": []
  }
 ],
 "metadata": {
  "kernelspec": {
   "display_name": ".venv",
   "language": "python",
   "name": "python3"
  },
  "language_info": {
   "codemirror_mode": {
    "name": "ipython",
    "version": 3
   },
   "file_extension": ".py",
   "mimetype": "text/x-python",
   "name": "python",
   "nbconvert_exporter": "python",
   "pygments_lexer": "ipython3",
   "version": "3.9.19"
  }
 },
 "nbformat": 4,
 "nbformat_minor": 2
}
