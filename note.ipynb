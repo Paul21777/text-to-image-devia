{
 "cells": [
  {
   "cell_type": "markdown",
   "metadata": {},
   "source": [
    "# [Use PDM in a multi-stage Dockerfile](https://pdm-project.org/latest/usage/advanced/#use-pdm-in-a-multi-stage-dockerfile)\n"
   ]
  },
  {
   "cell_type": "markdown",
   "metadata": {},
   "source": []
  }
 ],
 "metadata": {
  "language_info": {
   "name": "python"
  }
 },
 "nbformat": 4,
 "nbformat_minor": 2
}
